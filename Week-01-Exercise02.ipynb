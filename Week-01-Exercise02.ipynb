{
  "cells": [
    {
      "cell_type": "markdown",
      "metadata": {
        "id": "OAmSiVNDbwn4"
      },
      "source": [
        "![alt text](https://drive.google.com/uc?export=view&id=1DXUVHxd4t15mfuqMgMCLnsP4jWVI5EWz)\n",
        "<br>\n",
        "© 2022 Copyright The University of New South Wales - CRICOS 00098G\n",
        "\n",
        "\n",
        "# Chapter 1 - Exercise 2:  Introduction to ML and Data Mining: Data Visualisation using the 'plotnine' library"
      ]
    },
    {
      "cell_type": "markdown",
      "metadata": {
        "id": "ixuaq541bwn6"
      },
      "source": [
        "# Introduction: \n",
        "\n",
        "As we could see in the first exercise of this chapter, we visualise our features using the 'matplotlib' and 'seaborn' libraries. However, the **'plotnine'** library is also used for data visualisation in Python.\n",
        "\n",
        "The **plotnine** library is based on the R package ggplot2. There are some minor changes with respect to the R version, but fortunately, not many.\n",
        "\n",
        "Tutorials: \n",
        "1. [How to install plotnine](http://plotnine.readthedocs.io/en/stable/installation.html)\n",
        "2. [API reference](http://plotnine.readthedocs.io/en/stable/api.html)\n",
        "\n",
        "In this notebook, we will use the library <b>plotnine</b> to visualise the <b> diabetes hospitalisations - inpatient hospital data set </b> that we are going to use throughout the course. That is, we will repeat only the steps 5.4 and 5.5 of Chapter 1, Exercise 1. \n",
        "\n",
        "## Aims\n",
        " 1. To become familiar with 'plotnine' library \n",
        " 2. To use **'plotnine'** to visualise and explore our data set, in particular, how our input data are related to the output.\n",
        " "
      ]
    },
    {
      "cell_type": "code",
      "execution_count": null,
      "metadata": {
        "id": "SK13oQPXbwn8"
      },
      "outputs": [],
      "source": [
        "import sys\n",
        "print(sys.version)"
      ]
    },
    {
      "cell_type": "code",
      "execution_count": null,
      "metadata": {
        "id": "o2OywGpMbwn9"
      },
      "outputs": [],
      "source": [
        "import numpy as np\n",
        "from scipy import sparse\n",
        "from IPython.display import display\n",
        "import warnings\n",
        "warnings.filterwarnings('ignore')"
      ]
    },
    {
      "cell_type": "code",
      "execution_count": null,
      "metadata": {
        "id": "PtkTmv3kdU5x"
      },
      "outputs": [],
      "source": [
        "# check required libraries are installed if not calling system to install\n",
        "import sys\n",
        "import subprocess\n",
        "import pkg_resources\n",
        "\n",
        "required = {'numpy', 'pandas', 'plotnine', 'grid'}\n",
        "installed = {pkg.key for pkg in pkg_resources.working_set}\n",
        "missing = required - installed\n",
        "\n",
        "if missing:\n",
        "    print('Installing: ', missing)\n",
        "    python = sys.executable\n",
        "    subprocess.check_call([python, '-m', 'pip', 'install', *missing], stdout=subprocess.DEVNULL)\n",
        "# delete unwanted variables\n",
        "del required \n",
        "del installed \n",
        "del missing"
      ]
    },
    {
      "cell_type": "code",
      "execution_count": null,
      "metadata": {
        "id": "rxbAPMH5cnP1"
      },
      "outputs": [],
      "source": [
        "# Mount Google Drive\n",
        "# We do not need to run this cell if you are not running this notebook in Google Colab\n",
        "\n",
        "if 'google.colab' in str(get_ipython()):\n",
        "    from google.colab import drive # import drive from Gogle colab\n",
        "    root = '/content/drive'     # default location for the drive\n",
        "    # print(root)                 # print content of ROOT (Optional)\n",
        "    drive.mount(root)\n",
        "else:\n",
        "    print('Not running on CoLab')\n",
        "\n"
      ]
    },
    {
      "cell_type": "markdown",
      "metadata": {
        "id": "IANJr8uqAzmO"
      },
      "source": [
        "If you are running this notebook in Google Colab, you must define your project paths. In this case, define your `project_path`. Otherwise, all the data will be lost after you close the session."
      ]
    },
    {
      "cell_type": "code",
      "execution_count": null,
      "metadata": {
        "id": "es1Y-VRjcqZI"
      },
      "outputs": [],
      "source": [
        "from pathlib import Path\n",
        "if 'google.colab' in str(get_ipython()):\n",
        "    # EDIT THE PROJECT PATH IF DIFFERENT WITH YOUR ONE\n",
        "    project_path = Path(root) / 'MyDrive' / 'HDAT9500' / 'week01'\n",
        "    \n",
        "    # OPTIONAL - set working directory according to your google drive project path\n",
        "    # import os\n",
        "    # Change directory to the location defined in project_path\n",
        "    # os.chdir(project_path)\n",
        "else:\n",
        "    project_path = Path()"
      ]
    },
    {
      "cell_type": "markdown",
      "metadata": {
        "id": "6F70KDSzbwn-"
      },
      "source": [
        "# 1. Docstring\n",
        "\n",
        "Create a docstring with the variables and constants that you will use in this exercise (data dictionary) and the purpose of your program. It is expected that you choose informative variable names and document your program (both docstrings and comments)."
      ]
    },
    {
      "cell_type": "markdown",
      "metadata": {
        "id": "cmEmgf49bwn-"
      },
      "source": [
        "<b> Write the answer here:</b>\n",
        "#####################################################################################################################\n",
        "\n",
        "(double-click here)\n",
        "\n",
        "\n",
        "#####################################################################################################################"
      ]
    },
    {
      "cell_type": "markdown",
      "metadata": {
        "id": "Gq-LvjEhbwn_"
      },
      "source": [
        "# 2. Load the data set"
      ]
    },
    {
      "cell_type": "markdown",
      "metadata": {
        "id": "Bq882eUXbwn_"
      },
      "source": [
        "We import our dataset and print it. Please note that we will use the same dataset used in Chapter 1, Exercise 1. \n",
        "\n",
        "The data dictionary is located in: **[data/diabetes/Data_Dictionary.pdf](https://github.com/CBDRH-HDAT9500/week01/blob/a96a5830df7f2cd90bcaf671f8f69a8b92a2947f/data/diabetes/Data_Dictionary.pdf)**"
      ]
    },
    {
      "cell_type": "code",
      "execution_count": null,
      "metadata": {
        "id": "jHq9gbozbwoA"
      },
      "outputs": [],
      "source": [
        "# Read in data set\n",
        "import pickle\n",
        "pickle_path = Path(project_path) / 'hospital.pickle'\n",
        "\n",
        "with open(pickle_path, 'rb') as data:\n",
        "   hospital = pickle.load(data)"
      ]
    },
    {
      "cell_type": "code",
      "execution_count": null,
      "metadata": {
        "id": "bJhvYMovbwoB"
      },
      "outputs": [],
      "source": [
        "# Print the number of rows and columns using 'DataFrame.shape':\n",
        "print(\"Number of rows and columns: \", hospital.shape) \n",
        "hospital.head()"
      ]
    },
    {
      "cell_type": "code",
      "execution_count": null,
      "metadata": {
        "id": "jYteuWbubwoC"
      },
      "outputs": [],
      "source": [
        "hospital.dtypes"
      ]
    },
    {
      "cell_type": "markdown",
      "metadata": {
        "id": "zAYiobsrbwoD"
      },
      "source": [
        "# 3. Visualisation of the outcome variable: 'Readmission' \n",
        "\n",
        "As mentioned in the previous exercise, our final goal is: to build a predictive algorithm to predict if a patient with diabetes will be readmitted to the hospital after discharge. That is, **'readmission'** is our outcome variable. \n",
        "\n",
        "**Let's visualise the outcome variable to have a better idea of the differences between both classes, 'Yes' and 'No'.**\n",
        "\n",
        "For this, we will use 'ggplot' from **plotnine** library. [More information](https://plotnine.readthedocs.io/en/stable/api.html)"
      ]
    },
    {
      "cell_type": "code",
      "execution_count": null,
      "metadata": {
        "id": "us4ADhL7bwoD"
      },
      "outputs": [],
      "source": [
        "import plotnine\n",
        "import grid                 # Please make sure to install grid in anaconda prompt using this command: 'pip install grid'"
      ]
    },
    {
      "cell_type": "code",
      "execution_count": null,
      "metadata": {
        "id": "E8GQhGsWbwoD"
      },
      "outputs": [],
      "source": [
        "# Plot value counts with labels including proportions for each class of 'readmission'\n",
        "p = plotnine.ggplot(plotnine.aes(x='readmission', y=('100*..count../sum(..count..)'), fill='readmission'), data=hospital)\n",
        "p = p + plotnine.geom_bar(width=0.5) + plotnine.ylab('Proportion') + plotnine.theme_bw()\n",
        "p + plotnine.geom_text(plotnine.aes(label='stat(prop)*100', group=1),stat='count',nudge_y=0.125,va='bottom',format_string='{:.0f}%')"
      ]
    },
    {
      "cell_type": "markdown",
      "metadata": {
        "id": "yBRRJE87bwoE"
      },
      "source": [
        "# 4. Visualising the features regarding \"readmission\" \n",
        "\n",
        "## 4.1. Continuous Numeric Variables by Readmission \n",
        "\n",
        "Lets look at how the continuous numeric variables are distributed regarding **readmission**. For this, we will use `geom_hist()` from ggplot function. [More information](https://plotnine.readthedocs.io/en/stable/api.html)"
      ]
    },
    {
      "cell_type": "code",
      "execution_count": null,
      "metadata": {
        "id": "FuAacOv9bwoE",
        "scrolled": true
      },
      "outputs": [],
      "source": [
        "continuous_variables = ['los', 'num_lab_procedures','num_procedures','num_medications',\n",
        "                        'number_outpatient', 'number_emergency', 'number_inpatient', 'number_diagnoses','Age']\n",
        "\n",
        "for i in continuous_variables:\n",
        "    p = plotnine.ggplot(hospital, plotnine.aes(x=i)) \n",
        "    p = p + plotnine.geom_histogram(binwidth = 2, fill = 'steelblue') + plotnine.facet_wrap('~readmission', scales=\"free\")\n",
        "    p = p + plotnine.ylab('Counts') + plotnine.theme_bw() + plotnine.theme(panel_spacing=.70)\n",
        "    print(p)"
      ]
    },
    {
      "cell_type": "markdown",
      "metadata": {
        "id": "4RDcJh9lbwoE"
      },
      "source": [
        "### **Lets create box plots to visualise the same variables by readmission**\n",
        "\n",
        "For this, we will use the same selection of variables defined above 'continuous_variables'. "
      ]
    },
    {
      "cell_type": "code",
      "execution_count": null,
      "metadata": {
        "id": "9skF4iwpbwoF",
        "scrolled": true
      },
      "outputs": [],
      "source": [
        "# Box plot of all the continuous/numeric variables regarding 'readmissions'. Python command: ggplot()+geom_boxplot()\n",
        "for i in continuous_variables:\n",
        "    p = plotnine.ggplot(hospital, plotnine.aes(x='readmission', y=i, fill='readmission')) \n",
        "    p = p + plotnine.geom_boxplot() + plotnine.theme_bw()\n",
        "    print(p)"
      ]
    },
    {
      "cell_type": "markdown",
      "metadata": {
        "id": "Z3dqJ6uCbwoF"
      },
      "source": [
        "## 4.2 Categorical variables by readmission: \n",
        " \n",
        "Let's plot the categorical variables recorded in our dataset, focusing on our output: 'readmission'. \n",
        "\n",
        "In this case, we will use **`geom_bar()`** instead of `geom_hist()`. A histogram shows the distribution of a continuous numeric variable by grouping ranges of the data into bins. Bar charts plot categorical data. "
      ]
    },
    {
      "cell_type": "markdown",
      "metadata": {
        "id": "ew6el2mubwoF"
      },
      "source": [
        "Selecting variables needed for our plots. Make sure you delete from the list below the variables you dropped from the dataset in Exercise01. "
      ]
    },
    {
      "cell_type": "code",
      "execution_count": null,
      "metadata": {
        "id": "4aEhH5RibwoG"
      },
      "outputs": [],
      "source": [
        "categorical_variables = ['sex','payer_code','max_glu_serum','A1Cresult','admission_type_id_cat','discharge_disposition_id_cat','admission_source_id_cat', \n",
        "                        'group_name_1', 'group_name_2', 'group_name_3','medical_specialty']\n"
      ]
    },
    {
      "cell_type": "code",
      "execution_count": null,
      "metadata": {
        "id": "CUNGHGpYbwoG"
      },
      "outputs": [],
      "source": [
        "# 'medical_specialty': it has too many categories to be properly visualised;\n",
        "# Plot value counts and add labels with percentages in the same graph\n",
        "\n",
        "for i in categorical_variables:\n",
        "    p = plotnine.ggplot(plotnine.aes(x=i, fill=i), data=hospital) + plotnine.geom_bar(width=0.8)\n",
        "    p = p + plotnine.geom_text(plotnine.aes(label='stat(prop)*100', group=1),stat='count',nudge_y=0.125,va='bottom',format_string='{:.0f}%')\n",
        "    p = p + plotnine.theme_bw() + plotnine.theme(axis_text_x  = plotnine.element_text(angle = 90, hjust = 1), panel_spacing=.70)\n",
        "    p = p + plotnine.facet_wrap('~readmission', scales='free') \n",
        "    print(p)"
      ]
    },
    {
      "cell_type": "markdown",
      "metadata": {
        "id": "85sreJI5bwoG"
      },
      "source": [
        "As we could see, we can plot the value counts of all our features and add labels with the proportions on each bar. [More examples of **'plotnine'** and 'ggplot'](https://datacarpentry.org/python-ecology-lesson/07-visualization-ggplot-python/)"
      ]
    },
    {
      "cell_type": "markdown",
      "metadata": {
        "id": "uQSavpsibwoH"
      },
      "source": [
        "# 5. Summary of exercise "
      ]
    },
    {
      "cell_type": "markdown",
      "metadata": {
        "id": "UWkNDuAMbwoH"
      },
      "source": [
        "In this notebook, we could see different applications of **'ggplot'**, by using the library **'plotline'**. For example, we learned how to visualise continuous and categorical variables using histograms, box plots and bar plots. In addition, we applied the function `facet_wrap`, which allowed us to observe our features regarding each class of the outcome variable: 'readmissions'.\n",
        "\n",
        "In conclusion, for data visualisation in Python, which is the step 2 of the machine learning and data mining work-flow, we can use the following libraries:\n",
        "1. **matplotlib** (Example: Chapter 1, exercise 1)\n",
        "2. **seaborn** (Example: Chapter 1, exercise 1)\n",
        "3. **plotnine** (Example: Chapter 1, exercise 2)\n",
        "\n",
        "[More information](https://plotnine.readthedocs.io/en/stable/api.html)\n",
        "\n",
        "© 2022 Copyright The University of New South Wales - CRICOS 00098G"
      ]
    }
  ],
  "metadata": {
    "colab": {
      "name": "Week-01-Exercise02.ipynb",
      "provenance": []
    },
    "interpreter": {
      "hash": "aee8b7b246df8f9039afb4144a1f6fd8d2ca17a180786b69acc140d282b71a49"
    },
    "kernelspec": {
      "display_name": "Python 3.7.4 64-bit",
      "language": "python",
      "name": "python3"
    },
    "language_info": {
      "codemirror_mode": {
        "name": "ipython",
        "version": 3
      },
      "file_extension": ".py",
      "mimetype": "text/x-python",
      "name": "python",
      "nbconvert_exporter": "python",
      "pygments_lexer": "ipython3",
      "version": "3.7.4"
    }
  },
  "nbformat": 4,
  "nbformat_minor": 0
}